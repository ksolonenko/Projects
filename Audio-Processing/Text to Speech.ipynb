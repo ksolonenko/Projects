{
 "cells": [
  {
   "cell_type": "markdown",
   "metadata": {},
   "source": [
    "### Create an audiobook from a PDF file"
   ]
  },
  {
   "cell_type": "markdown",
   "metadata": {},
   "source": [
    "### Steps\n",
    "- Extract text from PDF file\n",
    "- Clean the text\n",
    "- Convert the text into speech\n",
    "- Save the speech"
   ]
  },
  {
   "cell_type": "markdown",
   "metadata": {},
   "source": [
    "### Import libraries"
   ]
  },
  {
   "cell_type": "code",
   "execution_count": 2,
   "metadata": {},
   "outputs": [],
   "source": [
    "import PyPDF2\n",
    "import pyttsx3"
   ]
  },
  {
   "cell_type": "markdown",
   "metadata": {},
   "source": [
    "### Extract the text"
   ]
  },
  {
   "cell_type": "code",
   "execution_count": 3,
   "metadata": {},
   "outputs": [],
   "source": [
    "with open('coverletter.pdf', 'rb') as file:\n",
    "    # Create a PDF file reader object\n",
    "    pdf_reader = PyPDF2.PdfReader(file)\n",
    "\n",
    "    # Extract text from the single page\n",
    "    text = pdf_reader.pages[0].extract_text()\n"
   ]
  },
  {
   "cell_type": "markdown",
   "metadata": {},
   "source": [
    "### Print the extracted text"
   ]
  },
  {
   "cell_type": "code",
   "execution_count": 4,
   "metadata": {},
   "outputs": [
    {
     "data": {
      "text/plain": [
       "'KATERYNA\\nSOLONENKO \\n647.656.8422\\n|\\nkat.solonenko@gmail.com\\n|\\nLinkedIn\\n|\\nGitHub\\n|\\nToronto,\\nOntario\\nDear\\nHiring\\nManager,\\nI\\nwould\\nlike\\nto\\nexpress\\nmy\\ninterest\\nin\\nthe\\nData\\nScience\\nStudent\\nposition\\nat\\nthe\\nOntario\\nEnergy\\nBoard\\n(OEB)\\n.\\nAs\\nan\\nadaptable,\\nresults-driven\\nprofessional\\nwith\\na\\nbackground\\nin\\ndata\\nscience,\\nlinguistics\\nand\\noffice\\nadministration,\\nI\\nam\\nconfident\\nthat\\nmy\\ntechnical\\nskills,\\ncombined\\nwith\\nmy\\ngrowth\\nmindset,\\nwould\\nmake\\nme\\na\\nvaluable\\nasset.\\nMy\\nacademic\\nbackground\\nincludes\\na\\nstrong\\nfoundation\\nin\\ndata\\nanalysis,\\nmachine\\nlearning,\\nand\\nnatural\\nlanguage\\nprocessing,\\nwhich\\nalign\\nwell\\nwith\\nthe\\nresponsibilities\\noutlined\\nfor\\nthe\\nposition.\\nCurrently,\\nI\\nam\\nenrolled\\nin\\nan\\nApplied\\nA.I.\\nSolutions\\nprogram\\nat\\nGeorge\\nBrown\\nCollege,\\nwhere\\nI\\nam\\nfurther\\ndeveloping\\nmy\\nunderstanding\\nof\\nmachine\\nlearning,\\nNLP,\\ndata\\nmanagement\\nand\\nstarting\\nin\\nthe\\nspring,\\nneural\\nnetworks.\\nMy\\ndedication\\nto\\ncontinuous\\nlearning\\nhas\\nallowed\\nme\\nto\\ngain\\nan\\nunderstanding\\nof\\ncoding,\\nstatistics,\\ndata\\nmanipulation,\\ndata\\nvisualization,\\ndatabase\\nstructures,\\nand\\nmachine\\nlearning\\nmodels.\\nI\\nhave\\ndeveloped\\na\\nproficiency\\nin\\nPython\\n(numpy,\\npandas,\\nscikit-learn,\\nNLTK),\\nR\\n(data\\nprocessing\\nand\\nvisualization),\\nas\\nwell\\nas\\nSQL.\\nAdditionally,\\nI\\nam\\nfamiliar\\nwith\\na\\nrange\\nof\\ntools,\\nincluding\\nGitHub,\\nMongoDB,\\nOracle\\nVM,\\nMySQL\\nand\\nAzure.\\nIn\\nmy\\nprevious\\nrole\\nas\\nProject\\nCoordinator\\nat\\nWellesley\\nParliament\\nSquare,\\nI\\nhave\\ndemonstrated\\nstrong\\nanalytical\\nand\\nproblem-solving\\nskills\\nin\\nstreamlining\\ninvoicing\\nthrough\\nthe\\nimplementation\\nof\\na\\nseparate\\ndatabase\\nsolution,\\nresulting\\nin\\nsubstantial\\ncost\\nsavings\\nof\\napproximately\\n$36,000\\nannually.\\nMy\\nexperience\\nin\\ntraining\\nstaff\\nacross\\nmultiple\\ndepartments\\nhas\\nallowed\\nme\\nto\\nexcel\\nin\\nteam\\ncollaboration\\nand\\nleadership,\\nfurther\\nenhancing\\nmy\\ncommunication\\nskills.\\nThe\\nopportunity\\nto\\nwork\\nwith\\nthe\\nOntario\\nEnergy\\nBoard’s\\nteam\\nof\\ndata\\nscientists\\nand\\nmachine\\nlearning\\nengineers\\naligns\\nperfectly\\nwith\\nmy\\naspirations\\nfor\\na\\nchallenging\\nand\\nfulfilling\\ncareer\\nin\\ndata\\nscience.\\nI\\nam\\nparticularly\\ninterested\\nin\\nsupporting\\nlocal\\neconomic\\nand\\nsocial\\ndevelopment,\\nand\\napplying\\nmy\\nknowledge\\nand\\nskills\\nto\\nreal-world\\nchallenges.\\nThank\\nyou\\nfor\\nconsidering\\nmy\\napplication!\\nI\\nam\\nlooking\\nforward\\nto\\ndiscussing\\nmy\\nbackground,\\nskills,\\nand\\nenthusiasm\\nfor\\nthe\\nrole\\nfurther\\nin\\nan\\ninterview\\nsetting.\\nAll\\nthe\\nbest,\\nKateryna\\nSolonenko'"
      ]
     },
     "execution_count": 4,
     "metadata": {},
     "output_type": "execute_result"
    }
   ],
   "source": [
    "text"
   ]
  },
  {
   "cell_type": "code",
   "execution_count": 5,
   "metadata": {
    "scrolled": true
   },
   "outputs": [
    {
     "data": {
      "text/plain": [
       "'KATERYNASOLONENKO 647.656.8422|kat.solonenko@gmail.com|LinkedIn|GitHub|Toronto,OntarioDearHiringManager,IwouldliketoexpressmyinterestintheDataScienceStudentpositionattheOntarioEnergyBoard(OEB).Asanadaptable,results-drivenprofessionalwithabackgroundindatascience,linguisticsandofficeadministration,Iamconfidentthatmytechnicalskills,combinedwithmygrowthmindset,wouldmakemeavaluableasset.Myacademicbackgroundincludesastrongfoundationindataanalysis,machinelearning,andnaturallanguageprocessing,whichalignwellwiththeresponsibilitiesoutlinedfortheposition.Currently,IamenrolledinanAppliedA.I.SolutionsprogramatGeorgeBrownCollege,whereIamfurtherdevelopingmyunderstandingofmachinelearning,NLP,datamanagementandstartinginthespring,neuralnetworks.Mydedicationtocontinuouslearninghasallowedmetogainanunderstandingofcoding,statistics,datamanipulation,datavisualization,databasestructures,andmachinelearningmodels.IhavedevelopedaproficiencyinPython(numpy,pandas,scikit-learn,NLTK),R(dataprocessingandvisualization),aswellasSQL.Additionally,Iamfamiliarwitharangeoftools,includingGitHub,MongoDB,OracleVM,MySQLandAzure.InmypreviousroleasProjectCoordinatoratWellesleyParliamentSquare,Ihavedemonstratedstronganalyticalandproblem-solvingskillsinstreamlininginvoicingthroughtheimplementationofaseparatedatabasesolution,resultinginsubstantialcostsavingsofapproximately$36,000annually.Myexperienceintrainingstaffacrossmultipledepartmentshasallowedmetoexcelinteamcollaborationandleadership,furtherenhancingmycommunicationskills.TheopportunitytoworkwiththeOntarioEnergyBoard’steamofdatascientistsandmachinelearningengineersalignsperfectlywithmyaspirationsforachallengingandfulfillingcareerindatascience.Iamparticularlyinterestedinsupportinglocaleconomicandsocialdevelopment,andapplyingmyknowledgeandskillstoreal-worldchallenges.Thankyouforconsideringmyapplication!Iamlookingforwardtodiscussingmybackground,skills,andenthusiasmfortherolefurtherinaninterviewsetting.Allthebest,KaterynaSolonenko'"
      ]
     },
     "execution_count": 5,
     "metadata": {},
     "output_type": "execute_result"
    }
   ],
   "source": [
    "text = text.replace('\\n', '')\n",
    "text"
   ]
  },
  {
   "cell_type": "markdown",
   "metadata": {},
   "source": [
    "### Initialize a Speaker object"
   ]
  },
  {
   "cell_type": "code",
   "execution_count": 6,
   "metadata": {},
   "outputs": [],
   "source": [
    "speaker = pyttsx3.init()"
   ]
  },
  {
   "cell_type": "markdown",
   "metadata": {},
   "source": [
    "### Convert the text"
   ]
  },
  {
   "cell_type": "code",
   "execution_count": 7,
   "metadata": {},
   "outputs": [],
   "source": [
    "speaker.setProperty('rate', 150)  #speed of speech (words per minute)\n",
    "\n",
    "#speak the extracted text\n",
    "speaker.say(text)\n",
    "\n",
    "#wait for the speech to finish\n",
    "speaker.runAndWait()"
   ]
  },
  {
   "cell_type": "markdown",
   "metadata": {},
   "source": [
    "### Save the audio"
   ]
  },
  {
   "cell_type": "code",
   "execution_count": 8,
   "metadata": {},
   "outputs": [],
   "source": [
    "output_file = 'output.mp3'\n",
    "speaker.save_to_file(text, output_file)\n",
    "speaker.runAndWait()\n"
   ]
  }
 ],
 "metadata": {
  "kernelspec": {
   "display_name": "Python 3 (ipykernel)",
   "language": "python",
   "name": "python3"
  },
  "language_info": {
   "codemirror_mode": {
    "name": "ipython",
    "version": 3
   },
   "file_extension": ".py",
   "mimetype": "text/x-python",
   "name": "python",
   "nbconvert_exporter": "python",
   "pygments_lexer": "ipython3",
   "version": "3.10.2"
  }
 },
 "nbformat": 4,
 "nbformat_minor": 4
}
